{
 "cells": [
  {
   "cell_type": "code",
   "execution_count": 1,
   "metadata": {},
   "outputs": [],
   "source": [
    "import json"
   ]
  },
  {
   "cell_type": "code",
   "execution_count": 3,
   "metadata": {},
   "outputs": [],
   "source": [
    "discharge_letter = '''Al Medico Curante del Sig. / Sig.ra\n",
    "Nato il: a: BARLETTA\n",
    "Nosografico: 2016 \n",
    "Tipo cartella: ORDINARIA\n",
    "Data ricovero: \n",
    "Recapiti: \n",
    "\n",
    "ENTERORRAGIA VEROSIMILMENTE IATROGENA ( paziente in trattamento con NOAc) IN PAZIENTE CON CARDIOPATIA FIBRILLANTE, IPERTENSIONE ARTERIOSA, IPERTIROIDISMO \n",
    "\n",
    "Notizie anamnestiche:\n",
    "paziente ricoverata in data 31.7.16 presso l'ospedale di San Gregorio per melena e rettoragia. Durante la degenza a San Gregorio ha effettuato EGDS ( gastrite superficiale erosiva    con tracce di ematina....) e Colonscopia( feci miste a sangue rosso vivo) e TAc addome negativa. In data 22/06 veniva trasferita presso il nostro reparto per approfondimento diagnostico. \n",
    "\n",
    "Esami ematochimici:\n",
    "HB= 9.2 GR/DL; ACIDO URICO = 9.3 GR/DL; ANTI HCV= POSITIVO;    I restanti esami ematochimici sono nella norma\n",
    "\n",
    "Esami strumentali:\n",
    "\n",
    "EGDS (29/06): esame normale\n",
    "COLONSCOPIA (29/06): anello emorroidario interno congesto. \n",
    "ECG(22/06):    fibrillazione atriale con FVM= 60 bpm. BBSx\n",
    "\n",
    "Osservazioni / Terapie effettuate:\n",
    "\n",
    "Durante la degenza è stata sospesa terapia con pradaxa ed è stato somministratro praxbind 5gr con conseguente arresto dell'emorragia. \n",
    "LA PAZIENTE DEVE TORNARE A CONTROLLO TRA CIRCA 3 MESI CON ESAMI EMATOCHIMICI DI FUNZIONALITAà EPATICA E RENALE . \n",
    "\n",
    "Trattamento a domicilio e indicazioni:\n",
    "\n",
    "OLPRESS 20                                        1/2 CP/DIE\n",
    "TAPAZOLE                                                1 CP/DIE\n",
    "PANTOPAN 40                                    1 CP/DIE\n",
    "ELIQUIS 5 MG                              1 CP X 2/DIE ( si allega piano terapeutico)\n",
    "CLEXANE 0.6                                    1 FL X 2/DIE SC ( SOSPENDERE QUANDO INIZIA ELIQUIS)\n",
    "LASIX 25                                                            1 CP/DIE\n",
    "'''"
   ]
  },
  {
   "cell_type": "code",
   "execution_count": null,
   "metadata": {},
   "outputs": [],
   "source": []
  },
  {
   "cell_type": "code",
   "execution_count": 4,
   "metadata": {},
   "outputs": [],
   "source": [
    "with open('discharge_letters.json', 'w') as f:\n",
    "    json.dump([discharge_letter], f)"
   ]
  },
  {
   "cell_type": "code",
   "execution_count": null,
   "metadata": {},
   "outputs": [],
   "source": [
    "discharge_letter = '''\n",
    "english:\n",
    "To the Attending Physician of Mr / Mrs\n",
    "Born on: a: BARLETTA\n",
    "Nosography: 2016 \n",
    "File type: ORDINARY\n",
    "Admission date: \n",
    "Addresses: \n",
    "\n",
    "VEROSIMILY HYATROGENIC ENTERORRAGY (patient being treated with NOAc) IN PATIENT WITH FIBRILLATING CARDIOPATHY, ARTERIOUS HYPERTENSION, HYPERTHYROIDISM \n",
    "\n",
    "Anamnestic information:\n",
    "patient admitted on 31.7.16 to St. Gregory's hospital for melena and rectoragia. During her stay at St. Gregory's she underwent EGDS (erosive superficial gastritis with traces of haematin....) and Colonoscopy (stools mixed with bright red blood) and negative abdomen TAc. On 22/06 she was transferred to our department for further diagnosis. \n",
    "\n",
    "Haematochemical examinations:\n",
    "HB = 9.2 GR/DL; URIC ACID = 9.3 GR/DL; ANTI HCV = POSITIVE; The remaining haematochemical examinations were normal.\n",
    "\n",
    "Instrumental examinations:\n",
    "\n",
    "EGDS (29/06): normal examination\n",
    "COLONSCOPIA (29/06): congested internal haemorrhoid ring. \n",
    "ECG(22/06): atrial fibrillation with FVM= 60 bpm. BBSx\n",
    "\n",
    "Observations/Therapies carried out:\n",
    "\n",
    "During hospital stay, pradaxa therapy was discontinued and praxbind 5gr was administered, resulting in cessation of bleeding. \n",
    "THE PATIENT MUST RETURN TO CHECK IN ABOUT 3 MONTHS WITH HEMATOCHEMICAL EXAMINATIONS OF HEPATIC AND RENAL FUNCTIONALITY. \n",
    "\n",
    "Home treatment and indications:\n",
    "\n",
    "OLPRESS 20 1/2 CP/DAY\n",
    "TAPAZOLE 1 CP/DAY\n",
    "PANTOPAN 40 1 CP/DAY\n",
    "ELIQUIS 5 MG 1 CP X 2/DIE (treatment plan attached)\n",
    "CLEXANE 0.6 1 FL X 2/DAY SC ( DISCONTINUE WHEN ELIQUIS STARTS)\n",
    "LASIX 25 1 CP/DAY\n",
    "'''"
   ]
  }
 ],
 "metadata": {
  "interpreter": {
   "hash": "b817bd925f617813c6da97dcf0ee0731d41e766c76e29835034ee6649755790f"
  },
  "kernelspec": {
   "display_name": "Python 3.9.12 ('data-science')",
   "language": "python",
   "name": "python3"
  },
  "language_info": {
   "codemirror_mode": {
    "name": "ipython",
    "version": 3
   },
   "file_extension": ".py",
   "mimetype": "text/x-python",
   "name": "python",
   "nbconvert_exporter": "python",
   "pygments_lexer": "ipython3",
   "version": "3.9.12"
  },
  "orig_nbformat": 4
 },
 "nbformat": 4,
 "nbformat_minor": 2
}
